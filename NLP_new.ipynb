{
  "nbformat": 4,
  "nbformat_minor": 0,
  "metadata": {
    "colab": {
      "provenance": [],
      "authorship_tag": "ABX9TyNqvXZLJzFhc2lstgn9k2pG",
      "include_colab_link": true
    },
    "kernelspec": {
      "name": "python3",
      "display_name": "Python 3"
    },
    "language_info": {
      "name": "python"
    }
  },
  "cells": [
    {
      "cell_type": "markdown",
      "metadata": {
        "id": "view-in-github",
        "colab_type": "text"
      },
      "source": [
        "<a href=\"https://colab.research.google.com/github/Vineeshchowdary6826/NLP/blob/main/NLP_new.ipynb\" target=\"_parent\"><img src=\"https://colab.research.google.com/assets/colab-badge.svg\" alt=\"Open In Colab\"/></a>"
      ]
    },
    {
      "cell_type": "code",
      "execution_count": null,
      "metadata": {
        "colab": {
          "base_uri": "https://localhost:8080/"
        },
        "id": "vB29FRKAPkP1",
        "outputId": "90620ece-1ebd-4f9b-99bf-39c6262e6ef3"
      },
      "outputs": [
        {
          "output_type": "stream",
          "name": "stdout",
          "text": [
            "Requirement already satisfied: gensim in /usr/local/lib/python3.11/dist-packages (4.3.3)\n",
            "Requirement already satisfied: numpy<2.0,>=1.18.5 in /usr/local/lib/python3.11/dist-packages (from gensim) (1.26.4)\n",
            "Requirement already satisfied: scipy<1.14.0,>=1.7.0 in /usr/local/lib/python3.11/dist-packages (from gensim) (1.13.1)\n",
            "Requirement already satisfied: smart-open>=1.8.1 in /usr/local/lib/python3.11/dist-packages (from gensim) (7.1.0)\n",
            "Requirement already satisfied: wrapt in /usr/local/lib/python3.11/dist-packages (from smart-open>=1.8.1->gensim) (1.17.0)\n"
          ]
        }
      ],
      "source": [
        "pip install gensim\n"
      ]
    },
    {
      "cell_type": "code",
      "source": [
        "corpus = [\n",
        "    \"the quick brown cat jumps over the lazy dog\",\n",
        "    \"the journey of thousand miles begin with single step\",\n",
        "    \"to be or not to be its a question\",\n",
        "    \"all glitters is not gold\",\n",
        "    \"The early bird catches the worm\"\n",
        "\n",
        "]"
      ],
      "metadata": {
        "id": "el_kGytHPmMc"
      },
      "execution_count": null,
      "outputs": []
    },
    {
      "cell_type": "code",
      "source": [
        "tokenize_sentence=[sentence.lower().split() for sentence in corpus]\n",
        "print(tokenize_sentence)"
      ],
      "metadata": {
        "colab": {
          "base_uri": "https://localhost:8080/"
        },
        "id": "eAkPeZQjPoB2",
        "outputId": "056f91c1-0b6c-4836-a8ce-defbe11f0636"
      },
      "execution_count": null,
      "outputs": [
        {
          "output_type": "stream",
          "name": "stdout",
          "text": [
            "[['the', 'quick', 'brown', 'cat', 'jumps', 'over', 'the', 'lazy', 'dog'], ['the', 'journey', 'of', 'thousand', 'miles', 'begin', 'with', 'single', 'step'], ['to', 'be', 'or', 'not', 'to', 'be', 'its', 'a', 'question'], ['all', 'glitters', 'is', 'not', 'gold'], ['the', 'early', 'bird', 'catches', 'the', 'worm']]\n"
          ]
        }
      ]
    },
    {
      "cell_type": "code",
      "source": [
        "import gensim\n",
        "from gensim.models import word2vec\n",
        "model=word2vec.Word2Vec(tokenize_sentence,vector_size=100,window=5,min_count=1,sg=0)\n",
        "model.save(\"word2vec.model\")\n"
      ],
      "metadata": {
        "id": "EMby3aD8Pqgb"
      },
      "execution_count": null,
      "outputs": []
    },
    {
      "cell_type": "code",
      "source": [
        "vector=model.wv['cat']\n",
        "print(vector)"
      ],
      "metadata": {
        "colab": {
          "base_uri": "https://localhost:8080/"
        },
        "id": "getgYg-DP17T",
        "outputId": "f38b258f-0f70-425e-9ed6-7d7abaf9c068"
      },
      "execution_count": null,
      "outputs": [
        {
          "output_type": "stream",
          "name": "stdout",
          "text": [
            "[-0.00950078  0.00956246 -0.00777062 -0.0026426  -0.00490749 -0.00496713\n",
            " -0.00802227 -0.00778277 -0.0045544  -0.00127432 -0.00510324  0.00614018\n",
            " -0.00951738 -0.00530629  0.00943528  0.00698988  0.00767541  0.00423341\n",
            "  0.00050758 -0.00598334  0.0060204   0.00263485  0.00769973  0.00639392\n",
            "  0.00794082  0.00865669 -0.00989758 -0.00675435  0.00133679  0.00643944\n",
            "  0.00737313  0.00551673  0.00766374 -0.00512548  0.00658459 -0.00410805\n",
            " -0.00905482  0.00914145  0.0013303  -0.00275902 -0.00247782 -0.00422177\n",
            "  0.00481068  0.00440173 -0.00265403 -0.00734313 -0.00356596 -0.00033692\n",
            "  0.00609767 -0.00283696 -0.00012168  0.00087979 -0.00709407  0.00206716\n",
            " -0.00143234  0.00280323  0.00484378 -0.00135318 -0.00278044  0.00773943\n",
            "  0.00504594  0.00671218  0.00451492  0.00866583  0.00747413 -0.00108185\n",
            "  0.00874752  0.00460287  0.00543999 -0.00138536 -0.00204242 -0.00442362\n",
            " -0.00851506  0.00303635  0.00888466  0.00892012 -0.00194219  0.00608755\n",
            "  0.00377994 -0.00429754  0.00204077 -0.00543694  0.00820873  0.00543411\n",
            "  0.00318292  0.0041028   0.00865706  0.00727179 -0.0008332  -0.0070715\n",
            "  0.00838164  0.00723317  0.00172951 -0.00134756 -0.00589012 -0.00453392\n",
            "  0.00864702 -0.00313456 -0.00633942  0.00987188]\n"
          ]
        }
      ]
    },
    {
      "cell_type": "markdown",
      "source": [],
      "metadata": {
        "id": "JyF0cYoyP1Zj"
      }
    },
    {
      "cell_type": "code",
      "source": [
        "print(\"i am going to mru university \")"
      ],
      "metadata": {
        "colab": {
          "base_uri": "https://localhost:8080/"
        },
        "id": "uavdCvORSpwm",
        "outputId": "0ba1e27b-07c4-4729-e153-4e0e563a4239"
      },
      "execution_count": null,
      "outputs": [
        {
          "output_type": "stream",
          "name": "stdout",
          "text": [
            "i am going to mru university \n"
          ]
        }
      ]
    },
    {
      "cell_type": "code",
      "source": [
        "import re\n",
        "pattern=r\"\\d+\"\n",
        "text=\"hey 004 is  Vinni bhai number \"\n",
        "output1=re.search(pattern,text)\n",
        "print(output1.group())"
      ],
      "metadata": {
        "id": "ERrzUQ4SS488",
        "colab": {
          "base_uri": "https://localhost:8080/"
        },
        "outputId": "29029752-219d-4083-8a39-5800ae9afac2"
      },
      "execution_count": null,
      "outputs": [
        {
          "output_type": "stream",
          "name": "stdout",
          "text": [
            "004\n"
          ]
        }
      ]
    },
    {
      "cell_type": "code",
      "source": [
        "import re\n",
        "pattern=r\"\\d+\"\n",
        "text=\"hey 004 is  008 number \"\n",
        "output1=re.findall(pattern,text)\n",
        "print(output1)"
      ],
      "metadata": {
        "colab": {
          "base_uri": "https://localhost:8080/"
        },
        "id": "98KgRSHfVqw0",
        "outputId": "0eadbedf-0e9b-424a-f26d-0bcdde1def5c"
      },
      "execution_count": null,
      "outputs": [
        {
          "output_type": "stream",
          "name": "stdout",
          "text": [
            "['004', '008']\n"
          ]
        }
      ]
    },
    {
      "cell_type": "code",
      "source": [
        "\n",
        "import re\n",
        "def clean_text(text):\n",
        "  emails = re.findall(r'[a-zA-Z0-9._%+-]+@[a-zA-Z0-9.-]+\\.[a-zA-Z]{2,}', text)\n",
        "\n",
        "  text_no_numbers = re.sub(r'\\d+', '', text)\n",
        "\n",
        "  hashtags = re.findall(r'#\\w+', text)\n",
        "  text_normalized = re,sub(r'\\s+', ' ', text_no_numbers).strip()\n",
        "  text_no_html = re.sub(r'<.*?>','',text_normalized)\n",
        "  returm{\n",
        "      \"emails\":emails,\n",
        "      \"hashtags\":hashtags,\n",
        "      \"clean_text\":text_no_html\n",
        "  }\n",
        "\n",
        "text=\"Hello world! Contact us at info@example.com or support123@company.org. Follow us \"\"\n",
        "\n",
        "result=clean_text(text)\n",
        "print"
      ],
      "metadata": {
        "id": "YmfX6VOLX3hD"
      },
      "execution_count": null,
      "outputs": []
    },
    {
      "cell_type": "code",
      "source": [
        "text=\"Hello world! Contact us at info@example.com or support123@company.org. Follow us #ai #vineesh\""
      ],
      "metadata": {
        "id": "VoaXnV8BbPYz"
      },
      "execution_count": null,
      "outputs": []
    },
    {
      "cell_type": "code",
      "source": [
        "import re\n",
        "\n",
        "emails = re.findall(r'[a-zA-Z0-9._%+-]+@[a-zA-Z0-9.-]+\\.[a-zA-Z]{2,}', text)\n",
        "\n",
        "print(emails)\n"
      ],
      "metadata": {
        "colab": {
          "base_uri": "https://localhost:8080/"
        },
        "id": "KStgfMyGOVJU",
        "outputId": "d20a6036-1d09-4a8f-fa77-554bf105f83d"
      },
      "execution_count": null,
      "outputs": [
        {
          "output_type": "stream",
          "name": "stdout",
          "text": [
            "['info@example.com', 'support123@company.org']\n"
          ]
        }
      ]
    },
    {
      "cell_type": "code",
      "source": [
        "hashtags=re.findall(r\"#\\w+\",text)\n",
        "hashtags"
      ],
      "metadata": {
        "colab": {
          "base_uri": "https://localhost:8080/"
        },
        "id": "ZIAc-iTWO8Ja",
        "outputId": "72d2c81b-b5c5-4416-ec12-b1ea3e9bca7f"
      },
      "execution_count": null,
      "outputs": [
        {
          "output_type": "execute_result",
          "data": {
            "text/plain": [
              "['#ai', '#vineesh']"
            ]
          },
          "metadata": {},
          "execution_count": 13
        }
      ]
    },
    {
      "cell_type": "code",
      "source": [
        "text_no_numbers=re.sub(r\"\\d+\",\"\",text)\n",
        "text_no_numbers"
      ],
      "metadata": {
        "colab": {
          "base_uri": "https://localhost:8080/",
          "height": 36
        },
        "id": "Dmist-aZPObp",
        "outputId": "56378523-68f9-480a-d720-af1782be67c2"
      },
      "execution_count": null,
      "outputs": [
        {
          "output_type": "execute_result",
          "data": {
            "text/plain": [
              "'Hello world! Contact us at info@example.com or support@company.org. Follow us #ai #vineesh'"
            ],
            "application/vnd.google.colaboratory.intrinsic+json": {
              "type": "string"
            }
          },
          "metadata": {},
          "execution_count": 14
        }
      ]
    },
    {
      "cell_type": "code",
      "source": [
        "!pip install wordcloud"
      ],
      "metadata": {
        "colab": {
          "base_uri": "https://localhost:8080/"
        },
        "id": "UrGdjRWSVLXb",
        "outputId": "0ff82db1-84a0-48d2-f17d-c9ee55ba36db"
      },
      "execution_count": null,
      "outputs": [
        {
          "output_type": "stream",
          "name": "stdout",
          "text": [
            "Requirement already satisfied: wordcloud in /usr/local/lib/python3.11/dist-packages (1.9.4)\n",
            "Requirement already satisfied: numpy>=1.6.1 in /usr/local/lib/python3.11/dist-packages (from wordcloud) (1.26.4)\n",
            "Requirement already satisfied: pillow in /usr/local/lib/python3.11/dist-packages (from wordcloud) (11.1.0)\n",
            "Requirement already satisfied: matplotlib in /usr/local/lib/python3.11/dist-packages (from wordcloud) (3.10.0)\n",
            "Requirement already satisfied: contourpy>=1.0.1 in /usr/local/lib/python3.11/dist-packages (from matplotlib->wordcloud) (1.3.1)\n",
            "Requirement already satisfied: cycler>=0.10 in /usr/local/lib/python3.11/dist-packages (from matplotlib->wordcloud) (0.12.1)\n",
            "Requirement already satisfied: fonttools>=4.22.0 in /usr/local/lib/python3.11/dist-packages (from matplotlib->wordcloud) (4.55.3)\n",
            "Requirement already satisfied: kiwisolver>=1.3.1 in /usr/local/lib/python3.11/dist-packages (from matplotlib->wordcloud) (1.4.8)\n",
            "Requirement already satisfied: packaging>=20.0 in /usr/local/lib/python3.11/dist-packages (from matplotlib->wordcloud) (24.2)\n",
            "Requirement already satisfied: pyparsing>=2.3.1 in /usr/local/lib/python3.11/dist-packages (from matplotlib->wordcloud) (3.2.1)\n",
            "Requirement already satisfied: python-dateutil>=2.7 in /usr/local/lib/python3.11/dist-packages (from matplotlib->wordcloud) (2.8.2)\n",
            "Requirement already satisfied: six>=1.5 in /usr/local/lib/python3.11/dist-packages (from python-dateutil>=2.7->matplotlib->wordcloud) (1.17.0)\n"
          ]
        }
      ]
    },
    {
      "cell_type": "code",
      "source": [
        "dataset = \"http://data.insideairbnb.com/canada/on/toronto/2023-03-09/data/listings.csv.gz\"\n",
        "df = pd.read_csv(dataset)"
      ],
      "metadata": {
        "id": "mil7t3YyV8h5"
      },
      "execution_count": null,
      "outputs": []
    },
    {
      "cell_type": "code",
      "source": [
        "import pandas as pd\n",
        "import matplotlib.pyplot as plt\n",
        "from wordcloud import wordcloud , STOPWORDS,ImageColorGenerator"
      ],
      "metadata": {
        "id": "8Dlef87KVSXo"
      },
      "execution_count": null,
      "outputs": []
    },
    {
      "cell_type": "code",
      "source": [
        "import pandas as pd\n",
        "dataset = pd.read_csv('/content/tweets.csv', encoding = 'Iso-8859-1')\n",
        "dataset.head(3)"
      ],
      "metadata": {
        "id": "86mQU9AQV4qZ",
        "colab": {
          "base_uri": "https://localhost:8080/",
          "height": 302
        },
        "outputId": "3116799d-40cc-4870-fbdb-b67b384adb82"
      },
      "execution_count": 3,
      "outputs": [
        {
          "output_type": "execute_result",
          "data": {
            "text/plain": [
              "   Unnamed: 0  X                                               text  \\\n",
              "0           1  1  RT @rssurjewala: Critical question: Was PayTM ...   \n",
              "1           2  2  RT @Hemant_80: Did you vote on #Demonetization...   \n",
              "2           3  3  RT @roshankar: Former FinSec, RBI Dy Governor,...   \n",
              "\n",
              "   favorited  favoriteCount replyToSN              created  truncated  \\\n",
              "0      False              0       NaN  2016-11-23 18:40:30      False   \n",
              "1      False              0       NaN  2016-11-23 18:40:29      False   \n",
              "2      False              0       NaN  2016-11-23 18:40:03      False   \n",
              "\n",
              "   replyToSID            id  replyToUID  \\\n",
              "0         NaN  8.014957e+17         NaN   \n",
              "1         NaN  8.014957e+17         NaN   \n",
              "2         NaN  8.014955e+17         NaN   \n",
              "\n",
              "                                        statusSource       screenName  \\\n",
              "0  <a href=\"http://twitter.com/download/android\" ...  HASHTAGFARZIWAL   \n",
              "1  <a href=\"http://twitter.com/download/android\" ...   PRAMODKAUSHIK9   \n",
              "2  <a href=\"http://twitter.com/download/android\" ...  rahulja13034944   \n",
              "\n",
              "   retweetCount  isRetweet  retweeted  \n",
              "0           331       True      False  \n",
              "1            66       True      False  \n",
              "2            12       True      False  "
            ],
            "text/html": [
              "\n",
              "  <div id=\"df-dd6c32cd-b855-4e57-8d6b-b9709f96d58e\" class=\"colab-df-container\">\n",
              "    <div>\n",
              "<style scoped>\n",
              "    .dataframe tbody tr th:only-of-type {\n",
              "        vertical-align: middle;\n",
              "    }\n",
              "\n",
              "    .dataframe tbody tr th {\n",
              "        vertical-align: top;\n",
              "    }\n",
              "\n",
              "    .dataframe thead th {\n",
              "        text-align: right;\n",
              "    }\n",
              "</style>\n",
              "<table border=\"1\" class=\"dataframe\">\n",
              "  <thead>\n",
              "    <tr style=\"text-align: right;\">\n",
              "      <th></th>\n",
              "      <th>Unnamed: 0</th>\n",
              "      <th>X</th>\n",
              "      <th>text</th>\n",
              "      <th>favorited</th>\n",
              "      <th>favoriteCount</th>\n",
              "      <th>replyToSN</th>\n",
              "      <th>created</th>\n",
              "      <th>truncated</th>\n",
              "      <th>replyToSID</th>\n",
              "      <th>id</th>\n",
              "      <th>replyToUID</th>\n",
              "      <th>statusSource</th>\n",
              "      <th>screenName</th>\n",
              "      <th>retweetCount</th>\n",
              "      <th>isRetweet</th>\n",
              "      <th>retweeted</th>\n",
              "    </tr>\n",
              "  </thead>\n",
              "  <tbody>\n",
              "    <tr>\n",
              "      <th>0</th>\n",
              "      <td>1</td>\n",
              "      <td>1</td>\n",
              "      <td>RT @rssurjewala: Critical question: Was PayTM ...</td>\n",
              "      <td>False</td>\n",
              "      <td>0</td>\n",
              "      <td>NaN</td>\n",
              "      <td>2016-11-23 18:40:30</td>\n",
              "      <td>False</td>\n",
              "      <td>NaN</td>\n",
              "      <td>8.014957e+17</td>\n",
              "      <td>NaN</td>\n",
              "      <td>&lt;a href=\"http://twitter.com/download/android\" ...</td>\n",
              "      <td>HASHTAGFARZIWAL</td>\n",
              "      <td>331</td>\n",
              "      <td>True</td>\n",
              "      <td>False</td>\n",
              "    </tr>\n",
              "    <tr>\n",
              "      <th>1</th>\n",
              "      <td>2</td>\n",
              "      <td>2</td>\n",
              "      <td>RT @Hemant_80: Did you vote on #Demonetization...</td>\n",
              "      <td>False</td>\n",
              "      <td>0</td>\n",
              "      <td>NaN</td>\n",
              "      <td>2016-11-23 18:40:29</td>\n",
              "      <td>False</td>\n",
              "      <td>NaN</td>\n",
              "      <td>8.014957e+17</td>\n",
              "      <td>NaN</td>\n",
              "      <td>&lt;a href=\"http://twitter.com/download/android\" ...</td>\n",
              "      <td>PRAMODKAUSHIK9</td>\n",
              "      <td>66</td>\n",
              "      <td>True</td>\n",
              "      <td>False</td>\n",
              "    </tr>\n",
              "    <tr>\n",
              "      <th>2</th>\n",
              "      <td>3</td>\n",
              "      <td>3</td>\n",
              "      <td>RT @roshankar: Former FinSec, RBI Dy Governor,...</td>\n",
              "      <td>False</td>\n",
              "      <td>0</td>\n",
              "      <td>NaN</td>\n",
              "      <td>2016-11-23 18:40:03</td>\n",
              "      <td>False</td>\n",
              "      <td>NaN</td>\n",
              "      <td>8.014955e+17</td>\n",
              "      <td>NaN</td>\n",
              "      <td>&lt;a href=\"http://twitter.com/download/android\" ...</td>\n",
              "      <td>rahulja13034944</td>\n",
              "      <td>12</td>\n",
              "      <td>True</td>\n",
              "      <td>False</td>\n",
              "    </tr>\n",
              "  </tbody>\n",
              "</table>\n",
              "</div>\n",
              "    <div class=\"colab-df-buttons\">\n",
              "\n",
              "  <div class=\"colab-df-container\">\n",
              "    <button class=\"colab-df-convert\" onclick=\"convertToInteractive('df-dd6c32cd-b855-4e57-8d6b-b9709f96d58e')\"\n",
              "            title=\"Convert this dataframe to an interactive table.\"\n",
              "            style=\"display:none;\">\n",
              "\n",
              "  <svg xmlns=\"http://www.w3.org/2000/svg\" height=\"24px\" viewBox=\"0 -960 960 960\">\n",
              "    <path d=\"M120-120v-720h720v720H120Zm60-500h600v-160H180v160Zm220 220h160v-160H400v160Zm0 220h160v-160H400v160ZM180-400h160v-160H180v160Zm440 0h160v-160H620v160ZM180-180h160v-160H180v160Zm440 0h160v-160H620v160Z\"/>\n",
              "  </svg>\n",
              "    </button>\n",
              "\n",
              "  <style>\n",
              "    .colab-df-container {\n",
              "      display:flex;\n",
              "      gap: 12px;\n",
              "    }\n",
              "\n",
              "    .colab-df-convert {\n",
              "      background-color: #E8F0FE;\n",
              "      border: none;\n",
              "      border-radius: 50%;\n",
              "      cursor: pointer;\n",
              "      display: none;\n",
              "      fill: #1967D2;\n",
              "      height: 32px;\n",
              "      padding: 0 0 0 0;\n",
              "      width: 32px;\n",
              "    }\n",
              "\n",
              "    .colab-df-convert:hover {\n",
              "      background-color: #E2EBFA;\n",
              "      box-shadow: 0px 1px 2px rgba(60, 64, 67, 0.3), 0px 1px 3px 1px rgba(60, 64, 67, 0.15);\n",
              "      fill: #174EA6;\n",
              "    }\n",
              "\n",
              "    .colab-df-buttons div {\n",
              "      margin-bottom: 4px;\n",
              "    }\n",
              "\n",
              "    [theme=dark] .colab-df-convert {\n",
              "      background-color: #3B4455;\n",
              "      fill: #D2E3FC;\n",
              "    }\n",
              "\n",
              "    [theme=dark] .colab-df-convert:hover {\n",
              "      background-color: #434B5C;\n",
              "      box-shadow: 0px 1px 3px 1px rgba(0, 0, 0, 0.15);\n",
              "      filter: drop-shadow(0px 1px 2px rgba(0, 0, 0, 0.3));\n",
              "      fill: #FFFFFF;\n",
              "    }\n",
              "  </style>\n",
              "\n",
              "    <script>\n",
              "      const buttonEl =\n",
              "        document.querySelector('#df-dd6c32cd-b855-4e57-8d6b-b9709f96d58e button.colab-df-convert');\n",
              "      buttonEl.style.display =\n",
              "        google.colab.kernel.accessAllowed ? 'block' : 'none';\n",
              "\n",
              "      async function convertToInteractive(key) {\n",
              "        const element = document.querySelector('#df-dd6c32cd-b855-4e57-8d6b-b9709f96d58e');\n",
              "        const dataTable =\n",
              "          await google.colab.kernel.invokeFunction('convertToInteractive',\n",
              "                                                    [key], {});\n",
              "        if (!dataTable) return;\n",
              "\n",
              "        const docLinkHtml = 'Like what you see? Visit the ' +\n",
              "          '<a target=\"_blank\" href=https://colab.research.google.com/notebooks/data_table.ipynb>data table notebook</a>'\n",
              "          + ' to learn more about interactive tables.';\n",
              "        element.innerHTML = '';\n",
              "        dataTable['output_type'] = 'display_data';\n",
              "        await google.colab.output.renderOutput(dataTable, element);\n",
              "        const docLink = document.createElement('div');\n",
              "        docLink.innerHTML = docLinkHtml;\n",
              "        element.appendChild(docLink);\n",
              "      }\n",
              "    </script>\n",
              "  </div>\n",
              "\n",
              "\n",
              "<div id=\"df-be3ddb5c-229a-4f9d-a5b1-72c93a84361e\">\n",
              "  <button class=\"colab-df-quickchart\" onclick=\"quickchart('df-be3ddb5c-229a-4f9d-a5b1-72c93a84361e')\"\n",
              "            title=\"Suggest charts\"\n",
              "            style=\"display:none;\">\n",
              "\n",
              "<svg xmlns=\"http://www.w3.org/2000/svg\" height=\"24px\"viewBox=\"0 0 24 24\"\n",
              "     width=\"24px\">\n",
              "    <g>\n",
              "        <path d=\"M19 3H5c-1.1 0-2 .9-2 2v14c0 1.1.9 2 2 2h14c1.1 0 2-.9 2-2V5c0-1.1-.9-2-2-2zM9 17H7v-7h2v7zm4 0h-2V7h2v10zm4 0h-2v-4h2v4z\"/>\n",
              "    </g>\n",
              "</svg>\n",
              "  </button>\n",
              "\n",
              "<style>\n",
              "  .colab-df-quickchart {\n",
              "      --bg-color: #E8F0FE;\n",
              "      --fill-color: #1967D2;\n",
              "      --hover-bg-color: #E2EBFA;\n",
              "      --hover-fill-color: #174EA6;\n",
              "      --disabled-fill-color: #AAA;\n",
              "      --disabled-bg-color: #DDD;\n",
              "  }\n",
              "\n",
              "  [theme=dark] .colab-df-quickchart {\n",
              "      --bg-color: #3B4455;\n",
              "      --fill-color: #D2E3FC;\n",
              "      --hover-bg-color: #434B5C;\n",
              "      --hover-fill-color: #FFFFFF;\n",
              "      --disabled-bg-color: #3B4455;\n",
              "      --disabled-fill-color: #666;\n",
              "  }\n",
              "\n",
              "  .colab-df-quickchart {\n",
              "    background-color: var(--bg-color);\n",
              "    border: none;\n",
              "    border-radius: 50%;\n",
              "    cursor: pointer;\n",
              "    display: none;\n",
              "    fill: var(--fill-color);\n",
              "    height: 32px;\n",
              "    padding: 0;\n",
              "    width: 32px;\n",
              "  }\n",
              "\n",
              "  .colab-df-quickchart:hover {\n",
              "    background-color: var(--hover-bg-color);\n",
              "    box-shadow: 0 1px 2px rgba(60, 64, 67, 0.3), 0 1px 3px 1px rgba(60, 64, 67, 0.15);\n",
              "    fill: var(--button-hover-fill-color);\n",
              "  }\n",
              "\n",
              "  .colab-df-quickchart-complete:disabled,\n",
              "  .colab-df-quickchart-complete:disabled:hover {\n",
              "    background-color: var(--disabled-bg-color);\n",
              "    fill: var(--disabled-fill-color);\n",
              "    box-shadow: none;\n",
              "  }\n",
              "\n",
              "  .colab-df-spinner {\n",
              "    border: 2px solid var(--fill-color);\n",
              "    border-color: transparent;\n",
              "    border-bottom-color: var(--fill-color);\n",
              "    animation:\n",
              "      spin 1s steps(1) infinite;\n",
              "  }\n",
              "\n",
              "  @keyframes spin {\n",
              "    0% {\n",
              "      border-color: transparent;\n",
              "      border-bottom-color: var(--fill-color);\n",
              "      border-left-color: var(--fill-color);\n",
              "    }\n",
              "    20% {\n",
              "      border-color: transparent;\n",
              "      border-left-color: var(--fill-color);\n",
              "      border-top-color: var(--fill-color);\n",
              "    }\n",
              "    30% {\n",
              "      border-color: transparent;\n",
              "      border-left-color: var(--fill-color);\n",
              "      border-top-color: var(--fill-color);\n",
              "      border-right-color: var(--fill-color);\n",
              "    }\n",
              "    40% {\n",
              "      border-color: transparent;\n",
              "      border-right-color: var(--fill-color);\n",
              "      border-top-color: var(--fill-color);\n",
              "    }\n",
              "    60% {\n",
              "      border-color: transparent;\n",
              "      border-right-color: var(--fill-color);\n",
              "    }\n",
              "    80% {\n",
              "      border-color: transparent;\n",
              "      border-right-color: var(--fill-color);\n",
              "      border-bottom-color: var(--fill-color);\n",
              "    }\n",
              "    90% {\n",
              "      border-color: transparent;\n",
              "      border-bottom-color: var(--fill-color);\n",
              "    }\n",
              "  }\n",
              "</style>\n",
              "\n",
              "  <script>\n",
              "    async function quickchart(key) {\n",
              "      const quickchartButtonEl =\n",
              "        document.querySelector('#' + key + ' button');\n",
              "      quickchartButtonEl.disabled = true;  // To prevent multiple clicks.\n",
              "      quickchartButtonEl.classList.add('colab-df-spinner');\n",
              "      try {\n",
              "        const charts = await google.colab.kernel.invokeFunction(\n",
              "            'suggestCharts', [key], {});\n",
              "      } catch (error) {\n",
              "        console.error('Error during call to suggestCharts:', error);\n",
              "      }\n",
              "      quickchartButtonEl.classList.remove('colab-df-spinner');\n",
              "      quickchartButtonEl.classList.add('colab-df-quickchart-complete');\n",
              "    }\n",
              "    (() => {\n",
              "      let quickchartButtonEl =\n",
              "        document.querySelector('#df-be3ddb5c-229a-4f9d-a5b1-72c93a84361e button');\n",
              "      quickchartButtonEl.style.display =\n",
              "        google.colab.kernel.accessAllowed ? 'block' : 'none';\n",
              "    })();\n",
              "  </script>\n",
              "</div>\n",
              "\n",
              "    </div>\n",
              "  </div>\n"
            ],
            "application/vnd.google.colaboratory.intrinsic+json": {
              "type": "dataframe",
              "variable_name": "dataset",
              "summary": "{\n  \"name\": \"dataset\",\n  \"rows\": 14940,\n  \"fields\": [\n    {\n      \"column\": \"Unnamed: 0\",\n      \"properties\": {\n        \"dtype\": \"number\",\n        \"std\": 4312,\n        \"min\": 1,\n        \"max\": 14940,\n        \"num_unique_values\": 14940,\n        \"samples\": [\n          5504,\n          3121,\n          12154\n        ],\n        \"semantic_type\": \"\",\n        \"description\": \"\"\n      }\n    },\n    {\n      \"column\": \"X\",\n      \"properties\": {\n        \"dtype\": \"number\",\n        \"std\": 4312,\n        \"min\": 1,\n        \"max\": 14940,\n        \"num_unique_values\": 14940,\n        \"samples\": [\n          5504,\n          3121,\n          12154\n        ],\n        \"semantic_type\": \"\",\n        \"description\": \"\"\n      }\n    },\n    {\n      \"column\": \"text\",\n      \"properties\": {\n        \"dtype\": \"category\",\n        \"num_unique_values\": 5147,\n        \"samples\": [\n          \". MVenkaiahNaidu blames opposition for not allowing #Parliament to function by creating uproar over #demonetization issue.\\r\\n\\r\\n\\u0097 All India Rad\\u0085\",\n          \"@mpvadodara @CMOGuj <ed><U+00A0><U+00BD><ed><U+00B9><U+008F> Please Include World Class Milkbar AMUL &amp; Baroda Dairy's Nutritious Products to Promote Agric\\u0085 https://t.co/1nzGkSBJsl\",\n          \"#DeMonetization - Finally - No country at such a large scale has gone ahead with such a move. Give it to all us citizens who bore the pain\"\n        ],\n        \"semantic_type\": \"\",\n        \"description\": \"\"\n      }\n    },\n    {\n      \"column\": \"favorited\",\n      \"properties\": {\n        \"dtype\": \"boolean\",\n        \"num_unique_values\": 1,\n        \"samples\": [\n          false\n        ],\n        \"semantic_type\": \"\",\n        \"description\": \"\"\n      }\n    },\n    {\n      \"column\": \"favoriteCount\",\n      \"properties\": {\n        \"dtype\": \"number\",\n        \"std\": 28,\n        \"min\": 0,\n        \"max\": 3166,\n        \"num_unique_values\": 85,\n        \"samples\": [\n          46\n        ],\n        \"semantic_type\": \"\",\n        \"description\": \"\"\n      }\n    },\n    {\n      \"column\": \"replyToSN\",\n      \"properties\": {\n        \"dtype\": \"category\",\n        \"num_unique_values\": 673,\n        \"samples\": [\n          \"anshud2843\"\n        ],\n        \"semantic_type\": \"\",\n        \"description\": \"\"\n      }\n    },\n    {\n      \"column\": \"created\",\n      \"properties\": {\n        \"dtype\": \"object\",\n        \"num_unique_values\": 14133,\n        \"samples\": [\n          \"2016-11-22 11:47:10\"\n        ],\n        \"semantic_type\": \"\",\n        \"description\": \"\"\n      }\n    },\n    {\n      \"column\": \"truncated\",\n      \"properties\": {\n        \"dtype\": \"boolean\",\n        \"num_unique_values\": 2,\n        \"samples\": [\n          true\n        ],\n        \"semantic_type\": \"\",\n        \"description\": \"\"\n      }\n    },\n    {\n      \"column\": \"replyToSID\",\n      \"properties\": {\n        \"dtype\": \"number\",\n        \"std\": 3.8802597786367544e+16,\n        \"min\": 22096326007.0,\n        \"max\": 8.554541262760837e+17,\n        \"num_unique_values\": 834,\n        \"samples\": [\n          8.531224284735488e+17\n        ],\n        \"semantic_type\": \"\",\n        \"description\": \"\"\n      }\n    },\n    {\n      \"column\": \"id\",\n      \"properties\": {\n        \"dtype\": \"number\",\n        \"std\": 2.6103405589334452e+16,\n        \"min\": 8.010167637227969e+17,\n        \"max\": 8.554728794078167e+17,\n        \"num_unique_values\": 14940,\n        \"samples\": [\n          8.011364320561478e+17\n        ],\n        \"semantic_type\": \"\",\n        \"description\": \"\"\n      }\n    },\n    {\n      \"column\": \"replyToUID\",\n      \"properties\": {\n        \"dtype\": \"number\",\n        \"std\": 1.7969122325494806e+17,\n        \"min\": 1917731.0,\n        \"max\": 8.542509997662413e+17,\n        \"num_unique_values\": 673,\n        \"samples\": [\n          1602416263.0\n        ],\n        \"semantic_type\": \"\",\n        \"description\": \"\"\n      }\n    },\n    {\n      \"column\": \"statusSource\",\n      \"properties\": {\n        \"dtype\": \"category\",\n        \"num_unique_values\": 144,\n        \"samples\": [\n          \"<a href=\\\"https://github.com/mariotaku/twidere/\\\" rel=\\\"nofollow\\\">Twidere for Android #7</a>\"\n        ],\n        \"semantic_type\": \"\",\n        \"description\": \"\"\n      }\n    },\n    {\n      \"column\": \"screenName\",\n      \"properties\": {\n        \"dtype\": \"string\",\n        \"num_unique_values\": 11259,\n        \"samples\": [\n          \"malstronikus\"\n        ],\n        \"semantic_type\": \"\",\n        \"description\": \"\"\n      }\n    },\n    {\n      \"column\": \"retweetCount\",\n      \"properties\": {\n        \"dtype\": \"number\",\n        \"std\": 411,\n        \"min\": 0,\n        \"max\": 5170,\n        \"num_unique_values\": 220,\n        \"samples\": [\n          456\n        ],\n        \"semantic_type\": \"\",\n        \"description\": \"\"\n      }\n    },\n    {\n      \"column\": \"isRetweet\",\n      \"properties\": {\n        \"dtype\": \"boolean\",\n        \"num_unique_values\": 2,\n        \"samples\": [\n          false\n        ],\n        \"semantic_type\": \"\",\n        \"description\": \"\"\n      }\n    },\n    {\n      \"column\": \"retweeted\",\n      \"properties\": {\n        \"dtype\": \"boolean\",\n        \"num_unique_values\": 1,\n        \"samples\": [\n          false\n        ],\n        \"semantic_type\": \"\",\n        \"description\": \"\"\n      }\n    }\n  ]\n}"
            }
          },
          "metadata": {},
          "execution_count": 3
        }
      ]
    },
    {
      "cell_type": "code",
      "source": [],
      "metadata": {
        "id": "aZ6Ix5LJoXAf"
      },
      "execution_count": null,
      "outputs": []
    }
  ]
}